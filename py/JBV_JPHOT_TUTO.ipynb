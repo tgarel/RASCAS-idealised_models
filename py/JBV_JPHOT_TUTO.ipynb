{
 "cells": [
  {
   "cell_type": "code",
   "execution_count": null,
   "metadata": {},
   "outputs": [],
   "source": [
    "import jphot as jp\n"
   ]
  },
  {
   "cell_type": "code",
   "execution_count": null,
   "metadata": {},
   "outputs": [],
   "source": [
    "outputDir = '/Volumes/LaCie/SIMULATIONS/P13-20h-1Mpc-MUSIC/Zoom-7-10508/SPHINX_run/RASCAS_HI_D_DUST/00036/'\n",
    "ICFile  = \"%s/LyaPhotIC.recLya.1\"%outputDir\n",
    "ResFile = \"%s/LyaPhotIC.recLya.result.1\"%outputDir\n"
   ]
  },
  {
   "cell_type": "code",
   "execution_count": null,
   "metadata": {},
   "outputs": [],
   "source": [
    "p = jp.photonlist(ICFile,ResFile)"
   ]
  },
  {
   "cell_type": "code",
   "execution_count": null,
   "metadata": {},
   "outputs": [],
   "source": [
    "import matplotlib.pyplot as plt\n",
    "plt.plot(p.x_ic,p.y_ic,'.',alpha=1)\n",
    "plt.plot(p.x,p.y,'.',alpha=0.1)\n",
    "plt.show()\n"
   ]
  },
  {
   "cell_type": "code",
   "execution_count": null,
   "metadata": {},
   "outputs": [],
   "source": [
    "import numpy as np\n",
    "escaping = np.where(p.status == 1)[0]\n",
    "pesc = p.extract_sample(escaping)\n"
   ]
  },
  {
   "cell_type": "code",
   "execution_count": null,
   "metadata": {},
   "outputs": [],
   "source": [
    "plt.plot(pesc.x_ic,pesc.y_ic,'.',alpha=1)\n",
    "plt.plot(pesc.x,pesc.y,'.',alpha=0.1)\n",
    "plt.show()\n"
   ]
  },
  {
   "cell_type": "code",
   "execution_count": null,
   "metadata": {},
   "outputs": [],
   "source": [
    "# plot spectre des photons emis (dans le réferentiel d'emission)\n",
    "x,s = p.spectrum(frame='ic')\n",
    "plt.plot(x,s)"
   ]
  },
  {
   "cell_type": "code",
   "execution_count": null,
   "metadata": {},
   "outputs": [],
   "source": [
    "# plot spectre des photons emis (dans le réferentiel d'observation)\n",
    "x,s = p.spectrum(frame='obs')\n",
    "plt.plot(x,s)"
   ]
  },
  {
   "cell_type": "code",
   "execution_count": null,
   "metadata": {},
   "outputs": [],
   "source": [
    "# plot spectre des photons sortants (dans le réferentiel d'observation)\n",
    "x,s = pesc.spectrum(frame='obs')\n",
    "plt.plot(x,s)"
   ]
  },
  {
   "cell_type": "code",
   "execution_count": null,
   "metadata": {},
   "outputs": [],
   "source": [
    "blah = plt.hist(np.log10(pesc.nscat),bins=100)"
   ]
  },
  {
   "cell_type": "code",
   "execution_count": null,
   "metadata": {},
   "outputs": [],
   "source": []
  }
 ],
 "metadata": {
  "kernelspec": {
   "display_name": "Python 3",
   "language": "python",
   "name": "python3"
  },
  "language_info": {
   "codemirror_mode": {
    "name": "ipython",
    "version": 3
   },
   "file_extension": ".py",
   "mimetype": "text/x-python",
   "name": "python",
   "nbconvert_exporter": "python",
   "pygments_lexer": "ipython3",
   "version": "3.6.3"
  }
 },
 "nbformat": 4,
 "nbformat_minor": 2
}
